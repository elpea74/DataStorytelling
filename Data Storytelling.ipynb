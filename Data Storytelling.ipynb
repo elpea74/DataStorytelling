{
 "cells": [
  {
   "cell_type": "markdown",
   "id": "4e902936",
   "metadata": {},
   "source": [
    "# Data Storytelling: Phone sales in Ukraine\n",
    "\n",
    "The dataset set contains data about the mobile phones which were released in the past 8 years and which can be bought in Ukraine. The dataset contains the model name, brand name and operating system of the phone and its popularity. It also has its financial characteristics like lowest/highest/best price and sellers amount. And some of the characteristics like screen/battery size, memory amount and release date.\n",
    "\n",
    "We'll look at the following questions:\n",
    "\n",
    "- Which phone brands are the most popular?\n",
    "- Do bigger screen sizes increase prices generally?\n",
    "- What other features of the phone correlate with one another?\n",
    "- What prices, screen sizes, battery capacity, etc. do best selling phones have?"
   ]
  },
  {
   "cell_type": "code",
   "execution_count": 21,
   "id": "e4def488",
   "metadata": {},
   "outputs": [],
   "source": [
    "import pandas as pd\n",
    "import numpy as np\n",
    "import seaborn as sns\n",
    "import matplotlib.pyplot as plt\n",
    "import warnings\n",
    "warnings.filterwarnings('ignore')"
   ]
  },
  {
   "cell_type": "code",
   "execution_count": 22,
   "id": "32a1a034",
   "metadata": {},
   "outputs": [
    {
     "data": {
      "text/html": [
       "<div>\n",
       "<style scoped>\n",
       "    .dataframe tbody tr th:only-of-type {\n",
       "        vertical-align: middle;\n",
       "    }\n",
       "\n",
       "    .dataframe tbody tr th {\n",
       "        vertical-align: top;\n",
       "    }\n",
       "\n",
       "    .dataframe thead th {\n",
       "        text-align: right;\n",
       "    }\n",
       "</style>\n",
       "<table border=\"1\" class=\"dataframe\">\n",
       "  <thead>\n",
       "    <tr style=\"text-align: right;\">\n",
       "      <th></th>\n",
       "      <th>Unnamed: 0</th>\n",
       "      <th>brand_name</th>\n",
       "      <th>model_name</th>\n",
       "      <th>os</th>\n",
       "      <th>popularity</th>\n",
       "      <th>best_price</th>\n",
       "      <th>lowest_price</th>\n",
       "      <th>highest_price</th>\n",
       "      <th>sellers_amount</th>\n",
       "      <th>screen_size</th>\n",
       "      <th>memory_size</th>\n",
       "      <th>battery_size</th>\n",
       "      <th>release_date</th>\n",
       "    </tr>\n",
       "  </thead>\n",
       "  <tbody>\n",
       "    <tr>\n",
       "      <th>0</th>\n",
       "      <td>0</td>\n",
       "      <td>ALCATEL</td>\n",
       "      <td>1 1/8GB Bluish Black (5033D-2JALUAA)</td>\n",
       "      <td>Android</td>\n",
       "      <td>422</td>\n",
       "      <td>1690.0</td>\n",
       "      <td>1529.0</td>\n",
       "      <td>1819.0</td>\n",
       "      <td>36</td>\n",
       "      <td>5.00</td>\n",
       "      <td>8.0</td>\n",
       "      <td>2000.0</td>\n",
       "      <td>10-2020</td>\n",
       "    </tr>\n",
       "    <tr>\n",
       "      <th>1</th>\n",
       "      <td>1</td>\n",
       "      <td>ALCATEL</td>\n",
       "      <td>1 5033D 1/16GB Volcano Black (5033D-2LALUAF)</td>\n",
       "      <td>Android</td>\n",
       "      <td>323</td>\n",
       "      <td>1803.0</td>\n",
       "      <td>1659.0</td>\n",
       "      <td>2489.0</td>\n",
       "      <td>36</td>\n",
       "      <td>5.00</td>\n",
       "      <td>16.0</td>\n",
       "      <td>2000.0</td>\n",
       "      <td>9-2020</td>\n",
       "    </tr>\n",
       "    <tr>\n",
       "      <th>2</th>\n",
       "      <td>2</td>\n",
       "      <td>ALCATEL</td>\n",
       "      <td>1 5033D 1/16GB Volcano Black (5033D-2LALUAF)</td>\n",
       "      <td>Android</td>\n",
       "      <td>299</td>\n",
       "      <td>1803.0</td>\n",
       "      <td>1659.0</td>\n",
       "      <td>2489.0</td>\n",
       "      <td>36</td>\n",
       "      <td>5.00</td>\n",
       "      <td>16.0</td>\n",
       "      <td>2000.0</td>\n",
       "      <td>9-2020</td>\n",
       "    </tr>\n",
       "    <tr>\n",
       "      <th>3</th>\n",
       "      <td>3</td>\n",
       "      <td>ALCATEL</td>\n",
       "      <td>1 5033D 1/16GB Volcano Black (5033D-2LALUAF)</td>\n",
       "      <td>Android</td>\n",
       "      <td>287</td>\n",
       "      <td>1803.0</td>\n",
       "      <td>1659.0</td>\n",
       "      <td>2489.0</td>\n",
       "      <td>36</td>\n",
       "      <td>5.00</td>\n",
       "      <td>16.0</td>\n",
       "      <td>2000.0</td>\n",
       "      <td>9-2020</td>\n",
       "    </tr>\n",
       "    <tr>\n",
       "      <th>4</th>\n",
       "      <td>4</td>\n",
       "      <td>Nokia</td>\n",
       "      <td>1.3 1/16GB Charcoal</td>\n",
       "      <td>Android</td>\n",
       "      <td>1047</td>\n",
       "      <td>1999.0</td>\n",
       "      <td>NaN</td>\n",
       "      <td>NaN</td>\n",
       "      <td>10</td>\n",
       "      <td>5.71</td>\n",
       "      <td>16.0</td>\n",
       "      <td>3000.0</td>\n",
       "      <td>4-2020</td>\n",
       "    </tr>\n",
       "  </tbody>\n",
       "</table>\n",
       "</div>"
      ],
      "text/plain": [
       "   Unnamed: 0 brand_name                                    model_name  \\\n",
       "0           0    ALCATEL          1 1/8GB Bluish Black (5033D-2JALUAA)   \n",
       "1           1    ALCATEL  1 5033D 1/16GB Volcano Black (5033D-2LALUAF)   \n",
       "2           2    ALCATEL  1 5033D 1/16GB Volcano Black (5033D-2LALUAF)   \n",
       "3           3    ALCATEL  1 5033D 1/16GB Volcano Black (5033D-2LALUAF)   \n",
       "4           4      Nokia                           1.3 1/16GB Charcoal   \n",
       "\n",
       "        os  popularity  best_price  lowest_price  highest_price  \\\n",
       "0  Android         422      1690.0        1529.0         1819.0   \n",
       "1  Android         323      1803.0        1659.0         2489.0   \n",
       "2  Android         299      1803.0        1659.0         2489.0   \n",
       "3  Android         287      1803.0        1659.0         2489.0   \n",
       "4  Android        1047      1999.0           NaN            NaN   \n",
       "\n",
       "   sellers_amount  screen_size  memory_size  battery_size release_date  \n",
       "0              36         5.00          8.0        2000.0      10-2020  \n",
       "1              36         5.00         16.0        2000.0       9-2020  \n",
       "2              36         5.00         16.0        2000.0       9-2020  \n",
       "3              36         5.00         16.0        2000.0       9-2020  \n",
       "4              10         5.71         16.0        3000.0       4-2020  "
      ]
     },
     "execution_count": 22,
     "metadata": {},
     "output_type": "execute_result"
    }
   ],
   "source": [
    "df = pd.read_csv('phones_data.csv')\n",
    "df.head()"
   ]
  },
  {
   "cell_type": "code",
   "execution_count": 24,
   "id": "ae4263b0",
   "metadata": {},
   "outputs": [
    {
     "data": {
      "text/html": [
       "<div>\n",
       "<style scoped>\n",
       "    .dataframe tbody tr th:only-of-type {\n",
       "        vertical-align: middle;\n",
       "    }\n",
       "\n",
       "    .dataframe tbody tr th {\n",
       "        vertical-align: top;\n",
       "    }\n",
       "\n",
       "    .dataframe thead th {\n",
       "        text-align: right;\n",
       "    }\n",
       "</style>\n",
       "<table border=\"1\" class=\"dataframe\">\n",
       "  <thead>\n",
       "    <tr style=\"text-align: right;\">\n",
       "      <th></th>\n",
       "      <th>brand_name</th>\n",
       "      <th>model_name</th>\n",
       "      <th>os</th>\n",
       "      <th>popularity</th>\n",
       "      <th>best_price</th>\n",
       "      <th>lowest_price</th>\n",
       "      <th>highest_price</th>\n",
       "      <th>sellers_amount</th>\n",
       "      <th>screen_size</th>\n",
       "      <th>memory_size</th>\n",
       "      <th>battery_size</th>\n",
       "      <th>release_date</th>\n",
       "    </tr>\n",
       "  </thead>\n",
       "  <tbody>\n",
       "    <tr>\n",
       "      <th>1</th>\n",
       "      <td>ALCATEL</td>\n",
       "      <td>1 1/8GB Bluish Black (5033D-2JALUAA)</td>\n",
       "      <td>Android</td>\n",
       "      <td>422</td>\n",
       "      <td>1690.0</td>\n",
       "      <td>1529.0</td>\n",
       "      <td>1819.0</td>\n",
       "      <td>36</td>\n",
       "      <td>5.00</td>\n",
       "      <td>8.0</td>\n",
       "      <td>2000.0</td>\n",
       "      <td>10-2020</td>\n",
       "    </tr>\n",
       "    <tr>\n",
       "      <th>2</th>\n",
       "      <td>ALCATEL</td>\n",
       "      <td>1 5033D 1/16GB Volcano Black (5033D-2LALUAF)</td>\n",
       "      <td>Android</td>\n",
       "      <td>323</td>\n",
       "      <td>1803.0</td>\n",
       "      <td>1659.0</td>\n",
       "      <td>2489.0</td>\n",
       "      <td>36</td>\n",
       "      <td>5.00</td>\n",
       "      <td>16.0</td>\n",
       "      <td>2000.0</td>\n",
       "      <td>9-2020</td>\n",
       "    </tr>\n",
       "    <tr>\n",
       "      <th>3</th>\n",
       "      <td>ALCATEL</td>\n",
       "      <td>1 5033D 1/16GB Volcano Black (5033D-2LALUAF)</td>\n",
       "      <td>Android</td>\n",
       "      <td>299</td>\n",
       "      <td>1803.0</td>\n",
       "      <td>1659.0</td>\n",
       "      <td>2489.0</td>\n",
       "      <td>36</td>\n",
       "      <td>5.00</td>\n",
       "      <td>16.0</td>\n",
       "      <td>2000.0</td>\n",
       "      <td>9-2020</td>\n",
       "    </tr>\n",
       "    <tr>\n",
       "      <th>4</th>\n",
       "      <td>ALCATEL</td>\n",
       "      <td>1 5033D 1/16GB Volcano Black (5033D-2LALUAF)</td>\n",
       "      <td>Android</td>\n",
       "      <td>287</td>\n",
       "      <td>1803.0</td>\n",
       "      <td>1659.0</td>\n",
       "      <td>2489.0</td>\n",
       "      <td>36</td>\n",
       "      <td>5.00</td>\n",
       "      <td>16.0</td>\n",
       "      <td>2000.0</td>\n",
       "      <td>9-2020</td>\n",
       "    </tr>\n",
       "    <tr>\n",
       "      <th>5</th>\n",
       "      <td>Nokia</td>\n",
       "      <td>1.3 1/16GB Charcoal</td>\n",
       "      <td>Android</td>\n",
       "      <td>1047</td>\n",
       "      <td>1999.0</td>\n",
       "      <td>NaN</td>\n",
       "      <td>NaN</td>\n",
       "      <td>10</td>\n",
       "      <td>5.71</td>\n",
       "      <td>16.0</td>\n",
       "      <td>3000.0</td>\n",
       "      <td>4-2020</td>\n",
       "    </tr>\n",
       "  </tbody>\n",
       "</table>\n",
       "</div>"
      ],
      "text/plain": [
       "  brand_name                                    model_name       os  \\\n",
       "1    ALCATEL          1 1/8GB Bluish Black (5033D-2JALUAA)  Android   \n",
       "2    ALCATEL  1 5033D 1/16GB Volcano Black (5033D-2LALUAF)  Android   \n",
       "3    ALCATEL  1 5033D 1/16GB Volcano Black (5033D-2LALUAF)  Android   \n",
       "4    ALCATEL  1 5033D 1/16GB Volcano Black (5033D-2LALUAF)  Android   \n",
       "5      Nokia                           1.3 1/16GB Charcoal  Android   \n",
       "\n",
       "   popularity  best_price  lowest_price  highest_price  sellers_amount  \\\n",
       "1         422      1690.0        1529.0         1819.0              36   \n",
       "2         323      1803.0        1659.0         2489.0              36   \n",
       "3         299      1803.0        1659.0         2489.0              36   \n",
       "4         287      1803.0        1659.0         2489.0              36   \n",
       "5        1047      1999.0           NaN            NaN              10   \n",
       "\n",
       "   screen_size  memory_size  battery_size release_date  \n",
       "1         5.00          8.0        2000.0      10-2020  \n",
       "2         5.00         16.0        2000.0       9-2020  \n",
       "3         5.00         16.0        2000.0       9-2020  \n",
       "4         5.00         16.0        2000.0       9-2020  \n",
       "5         5.71         16.0        3000.0       4-2020  "
      ]
     },
     "execution_count": 24,
     "metadata": {},
     "output_type": "execute_result"
    }
   ],
   "source": [
    "df.drop(['Unnamed: 0'], axis=1, inplace=True)\n",
    "\n",
    "# reindex from 1 instead of 0\n",
    "df.index = df.index + 1\n",
    "\n",
    "df.head()"
   ]
  },
  {
   "cell_type": "code",
   "execution_count": 25,
   "id": "4a287984",
   "metadata": {},
   "outputs": [
    {
     "data": {
      "text/plain": [
       "brand_name          0\n",
       "model_name          0\n",
       "os                197\n",
       "popularity          0\n",
       "best_price          0\n",
       "lowest_price      260\n",
       "highest_price     260\n",
       "sellers_amount      0\n",
       "screen_size         2\n",
       "memory_size       112\n",
       "battery_size       10\n",
       "release_date        0\n",
       "dtype: int64"
      ]
     },
     "execution_count": 25,
     "metadata": {},
     "output_type": "execute_result"
    }
   ],
   "source": [
    "# check if there is any null value\n",
    "df.isna().sum()"
   ]
  },
  {
   "cell_type": "markdown",
   "id": "6bc5cdd7",
   "metadata": {},
   "source": [
    "We'll need to either fill in the missing values or drop the rows completely.\n",
    "\n",
    "For operating systems, as we cannot predict OS correctly, we'll just fill missing values with \"Other\"."
   ]
  },
  {
   "cell_type": "code",
   "execution_count": 26,
   "id": "5fc6cc77",
   "metadata": {},
   "outputs": [
    {
     "data": {
      "text/plain": [
       "brand_name          0\n",
       "model_name          0\n",
       "os                  0\n",
       "popularity          0\n",
       "best_price          0\n",
       "lowest_price      260\n",
       "highest_price     260\n",
       "sellers_amount      0\n",
       "screen_size         2\n",
       "memory_size       112\n",
       "battery_size       10\n",
       "release_date        0\n",
       "dtype: int64"
      ]
     },
     "execution_count": 26,
     "metadata": {},
     "output_type": "execute_result"
    }
   ],
   "source": [
    "temp = df[df.os.isna()]\n",
    "temp.os = temp.os.fillna('Other')\n",
    "df[df.os.isna()] = temp\n",
    "\n",
    "df.isna().sum()"
   ]
  },
  {
   "cell_type": "code",
   "execution_count": 32,
   "id": "618a22ef",
   "metadata": {},
   "outputs": [
    {
     "data": {
      "text/html": [
       "<div>\n",
       "<style scoped>\n",
       "    .dataframe tbody tr th:only-of-type {\n",
       "        vertical-align: middle;\n",
       "    }\n",
       "\n",
       "    .dataframe tbody tr th {\n",
       "        vertical-align: top;\n",
       "    }\n",
       "\n",
       "    .dataframe thead th {\n",
       "        text-align: right;\n",
       "    }\n",
       "</style>\n",
       "<table border=\"1\" class=\"dataframe\">\n",
       "  <thead>\n",
       "    <tr style=\"text-align: right;\">\n",
       "      <th></th>\n",
       "      <th>brand_name</th>\n",
       "      <th>model_name</th>\n",
       "      <th>os</th>\n",
       "      <th>popularity</th>\n",
       "      <th>best_price</th>\n",
       "      <th>lowest_price</th>\n",
       "      <th>highest_price</th>\n",
       "      <th>sellers_amount</th>\n",
       "      <th>screen_size</th>\n",
       "      <th>memory_size</th>\n",
       "      <th>battery_size</th>\n",
       "      <th>release_date</th>\n",
       "    </tr>\n",
       "  </thead>\n",
       "  <tbody>\n",
       "    <tr>\n",
       "      <th>5</th>\n",
       "      <td>Nokia</td>\n",
       "      <td>1.3 1/16GB Charcoal</td>\n",
       "      <td>Android</td>\n",
       "      <td>1047</td>\n",
       "      <td>1999.0</td>\n",
       "      <td>NaN</td>\n",
       "      <td>NaN</td>\n",
       "      <td>10</td>\n",
       "      <td>5.71</td>\n",
       "      <td>16.000</td>\n",
       "      <td>3000.0</td>\n",
       "      <td>4-2020</td>\n",
       "    </tr>\n",
       "    <tr>\n",
       "      <th>7</th>\n",
       "      <td>Honor</td>\n",
       "      <td>10 Lite 3/32GB Blue</td>\n",
       "      <td>Android</td>\n",
       "      <td>424</td>\n",
       "      <td>3999.0</td>\n",
       "      <td>NaN</td>\n",
       "      <td>NaN</td>\n",
       "      <td>2</td>\n",
       "      <td>6.21</td>\n",
       "      <td>32.000</td>\n",
       "      <td>3400.0</td>\n",
       "      <td>12-2018</td>\n",
       "    </tr>\n",
       "    <tr>\n",
       "      <th>22</th>\n",
       "      <td>Nokia</td>\n",
       "      <td>105 Single Sim New White (A00028371)</td>\n",
       "      <td>Other</td>\n",
       "      <td>59</td>\n",
       "      <td>499.0</td>\n",
       "      <td>NaN</td>\n",
       "      <td>NaN</td>\n",
       "      <td>1</td>\n",
       "      <td>1.80</td>\n",
       "      <td>0.004</td>\n",
       "      <td>800.0</td>\n",
       "      <td>9-2017</td>\n",
       "    </tr>\n",
       "    <tr>\n",
       "      <th>25</th>\n",
       "      <td>Honor</td>\n",
       "      <td>10i 4/128GB Black (51093VQV)</td>\n",
       "      <td>Android</td>\n",
       "      <td>532</td>\n",
       "      <td>5499.0</td>\n",
       "      <td>NaN</td>\n",
       "      <td>NaN</td>\n",
       "      <td>2</td>\n",
       "      <td>6.21</td>\n",
       "      <td>128.000</td>\n",
       "      <td>3400.0</td>\n",
       "      <td>5-2019</td>\n",
       "    </tr>\n",
       "    <tr>\n",
       "      <th>26</th>\n",
       "      <td>Honor</td>\n",
       "      <td>10i 4/128GB Blue (51093VQX)</td>\n",
       "      <td>Android</td>\n",
       "      <td>444</td>\n",
       "      <td>5499.0</td>\n",
       "      <td>NaN</td>\n",
       "      <td>NaN</td>\n",
       "      <td>2</td>\n",
       "      <td>6.21</td>\n",
       "      <td>128.000</td>\n",
       "      <td>3400.0</td>\n",
       "      <td>5-2019</td>\n",
       "    </tr>\n",
       "    <tr>\n",
       "      <th>...</th>\n",
       "      <td>...</td>\n",
       "      <td>...</td>\n",
       "      <td>...</td>\n",
       "      <td>...</td>\n",
       "      <td>...</td>\n",
       "      <td>...</td>\n",
       "      <td>...</td>\n",
       "      <td>...</td>\n",
       "      <td>...</td>\n",
       "      <td>...</td>\n",
       "      <td>...</td>\n",
       "      <td>...</td>\n",
       "    </tr>\n",
       "    <tr>\n",
       "      <th>1162</th>\n",
       "      <td>Apple</td>\n",
       "      <td>iPhone 5C 32GB (White)</td>\n",
       "      <td>iOS</td>\n",
       "      <td>8</td>\n",
       "      <td>3000.0</td>\n",
       "      <td>NaN</td>\n",
       "      <td>NaN</td>\n",
       "      <td>1</td>\n",
       "      <td>4.00</td>\n",
       "      <td>32.000</td>\n",
       "      <td>1510.0</td>\n",
       "      <td>9-2013</td>\n",
       "    </tr>\n",
       "    <tr>\n",
       "      <th>1163</th>\n",
       "      <td>Apple</td>\n",
       "      <td>iPhone 5C 8GB (White)</td>\n",
       "      <td>iOS</td>\n",
       "      <td>633</td>\n",
       "      <td>2445.0</td>\n",
       "      <td>NaN</td>\n",
       "      <td>NaN</td>\n",
       "      <td>1</td>\n",
       "      <td>4.00</td>\n",
       "      <td>8.000</td>\n",
       "      <td>1510.0</td>\n",
       "      <td>4-2014</td>\n",
       "    </tr>\n",
       "    <tr>\n",
       "      <th>1166</th>\n",
       "      <td>Apple</td>\n",
       "      <td>iPhone 6 128GB (Gold)</td>\n",
       "      <td>iOS</td>\n",
       "      <td>32</td>\n",
       "      <td>5250.0</td>\n",
       "      <td>NaN</td>\n",
       "      <td>NaN</td>\n",
       "      <td>1</td>\n",
       "      <td>4.70</td>\n",
       "      <td>128.000</td>\n",
       "      <td>1810.0</td>\n",
       "      <td>9-2014</td>\n",
       "    </tr>\n",
       "    <tr>\n",
       "      <th>1170</th>\n",
       "      <td>Apple</td>\n",
       "      <td>iPhone 6 Plus 128GB (Space Gray)</td>\n",
       "      <td>iOS</td>\n",
       "      <td>940</td>\n",
       "      <td>6400.0</td>\n",
       "      <td>NaN</td>\n",
       "      <td>NaN</td>\n",
       "      <td>1</td>\n",
       "      <td>5.50</td>\n",
       "      <td>128.000</td>\n",
       "      <td>2915.0</td>\n",
       "      <td>9-2014</td>\n",
       "    </tr>\n",
       "    <tr>\n",
       "      <th>1178</th>\n",
       "      <td>Apple</td>\n",
       "      <td>iPhone 6s Plus 16GB Space Gray (MKU12)</td>\n",
       "      <td>iOS</td>\n",
       "      <td>489</td>\n",
       "      <td>6500.0</td>\n",
       "      <td>NaN</td>\n",
       "      <td>NaN</td>\n",
       "      <td>1</td>\n",
       "      <td>5.50</td>\n",
       "      <td>16.000</td>\n",
       "      <td>2915.0</td>\n",
       "      <td>9-2015</td>\n",
       "    </tr>\n",
       "  </tbody>\n",
       "</table>\n",
       "<p>260 rows × 12 columns</p>\n",
       "</div>"
      ],
      "text/plain": [
       "     brand_name                              model_name       os  popularity  \\\n",
       "5         Nokia                     1.3 1/16GB Charcoal  Android        1047   \n",
       "7         Honor                     10 Lite 3/32GB Blue  Android         424   \n",
       "22        Nokia    105 Single Sim New White (A00028371)    Other          59   \n",
       "25        Honor            10i 4/128GB Black (51093VQV)  Android         532   \n",
       "26        Honor             10i 4/128GB Blue (51093VQX)  Android         444   \n",
       "...         ...                                     ...      ...         ...   \n",
       "1162      Apple                  iPhone 5C 32GB (White)      iOS           8   \n",
       "1163      Apple                   iPhone 5C 8GB (White)      iOS         633   \n",
       "1166      Apple                   iPhone 6 128GB (Gold)      iOS          32   \n",
       "1170      Apple        iPhone 6 Plus 128GB (Space Gray)      iOS         940   \n",
       "1178      Apple  iPhone 6s Plus 16GB Space Gray (MKU12)      iOS         489   \n",
       "\n",
       "      best_price  lowest_price  highest_price  sellers_amount  screen_size  \\\n",
       "5         1999.0           NaN            NaN              10         5.71   \n",
       "7         3999.0           NaN            NaN               2         6.21   \n",
       "22         499.0           NaN            NaN               1         1.80   \n",
       "25        5499.0           NaN            NaN               2         6.21   \n",
       "26        5499.0           NaN            NaN               2         6.21   \n",
       "...          ...           ...            ...             ...          ...   \n",
       "1162      3000.0           NaN            NaN               1         4.00   \n",
       "1163      2445.0           NaN            NaN               1         4.00   \n",
       "1166      5250.0           NaN            NaN               1         4.70   \n",
       "1170      6400.0           NaN            NaN               1         5.50   \n",
       "1178      6500.0           NaN            NaN               1         5.50   \n",
       "\n",
       "      memory_size  battery_size release_date  \n",
       "5          16.000        3000.0       4-2020  \n",
       "7          32.000        3400.0      12-2018  \n",
       "22          0.004         800.0       9-2017  \n",
       "25        128.000        3400.0       5-2019  \n",
       "26        128.000        3400.0       5-2019  \n",
       "...           ...           ...          ...  \n",
       "1162       32.000        1510.0       9-2013  \n",
       "1163        8.000        1510.0       4-2014  \n",
       "1166      128.000        1810.0       9-2014  \n",
       "1170      128.000        2915.0       9-2014  \n",
       "1178       16.000        2915.0       9-2015  \n",
       "\n",
       "[260 rows x 12 columns]"
      ]
     },
     "execution_count": 32,
     "metadata": {},
     "output_type": "execute_result"
    }
   ],
   "source": [
    "df[df['lowest_price'].isna() & df['highest_price'].isna()]"
   ]
  },
  {
   "cell_type": "markdown",
   "id": "0a5e7aed",
   "metadata": {},
   "source": [
    "It looks like all 260 missing values of both lowest_price and highest_price belong to the same 260 records. We will fill these missing values with best_price values, as we simply cannot predict the highest and lowest prices of each phone model."
   ]
  },
  {
   "cell_type": "code",
   "execution_count": 34,
   "id": "acf1ff46",
   "metadata": {},
   "outputs": [
    {
     "data": {
      "text/plain": [
       "brand_name          0\n",
       "model_name          0\n",
       "os                  0\n",
       "popularity          0\n",
       "best_price          0\n",
       "lowest_price        0\n",
       "highest_price       0\n",
       "sellers_amount      0\n",
       "screen_size         2\n",
       "memory_size       112\n",
       "battery_size       10\n",
       "release_date        0\n",
       "dtype: int64"
      ]
     },
     "execution_count": 34,
     "metadata": {},
     "output_type": "execute_result"
    }
   ],
   "source": [
    "temp = df[df.lowest_price.isna()]\n",
    "temp.lowest_price = temp.best_price\n",
    "temp.highest_price = temp.best_price\n",
    "df[df.lowest_price.isna()] = temp\n",
    "\n",
    "df.isna().sum()"
   ]
  },
  {
   "cell_type": "code",
   "execution_count": 35,
   "id": "00d609a3",
   "metadata": {},
   "outputs": [
    {
     "data": {
      "text/html": [
       "<div>\n",
       "<style scoped>\n",
       "    .dataframe tbody tr th:only-of-type {\n",
       "        vertical-align: middle;\n",
       "    }\n",
       "\n",
       "    .dataframe tbody tr th {\n",
       "        vertical-align: top;\n",
       "    }\n",
       "\n",
       "    .dataframe thead th {\n",
       "        text-align: right;\n",
       "    }\n",
       "</style>\n",
       "<table border=\"1\" class=\"dataframe\">\n",
       "  <thead>\n",
       "    <tr style=\"text-align: right;\">\n",
       "      <th></th>\n",
       "      <th>brand_name</th>\n",
       "      <th>model_name</th>\n",
       "      <th>os</th>\n",
       "      <th>popularity</th>\n",
       "      <th>best_price</th>\n",
       "      <th>lowest_price</th>\n",
       "      <th>highest_price</th>\n",
       "      <th>sellers_amount</th>\n",
       "      <th>screen_size</th>\n",
       "      <th>memory_size</th>\n",
       "      <th>battery_size</th>\n",
       "      <th>release_date</th>\n",
       "    </tr>\n",
       "  </thead>\n",
       "  <tbody>\n",
       "    <tr>\n",
       "      <th>14</th>\n",
       "      <td>Nokia</td>\n",
       "      <td>105 Dual Sim 2019 Black (16KIGB01A01)</td>\n",
       "      <td>Other</td>\n",
       "      <td>262</td>\n",
       "      <td>601.0</td>\n",
       "      <td>539.0</td>\n",
       "      <td>703.0</td>\n",
       "      <td>31</td>\n",
       "      <td>1.77</td>\n",
       "      <td>NaN</td>\n",
       "      <td>800.0</td>\n",
       "      <td>11-2019</td>\n",
       "    </tr>\n",
       "    <tr>\n",
       "      <th>15</th>\n",
       "      <td>Nokia</td>\n",
       "      <td>105 Dual Sim 2019 Black (16KIGB01A01)</td>\n",
       "      <td>Other</td>\n",
       "      <td>274</td>\n",
       "      <td>601.0</td>\n",
       "      <td>539.0</td>\n",
       "      <td>703.0</td>\n",
       "      <td>31</td>\n",
       "      <td>1.77</td>\n",
       "      <td>NaN</td>\n",
       "      <td>800.0</td>\n",
       "      <td>11-2019</td>\n",
       "    </tr>\n",
       "    <tr>\n",
       "      <th>17</th>\n",
       "      <td>Nokia</td>\n",
       "      <td>105 Single Sim 2019 Black (16KIGB01A13)</td>\n",
       "      <td>Other</td>\n",
       "      <td>805</td>\n",
       "      <td>536.0</td>\n",
       "      <td>449.0</td>\n",
       "      <td>642.0</td>\n",
       "      <td>31</td>\n",
       "      <td>1.77</td>\n",
       "      <td>NaN</td>\n",
       "      <td>800.0</td>\n",
       "      <td>11-2019</td>\n",
       "    </tr>\n",
       "    <tr>\n",
       "      <th>18</th>\n",
       "      <td>Nokia</td>\n",
       "      <td>105 Single Sim 2019 Pink (16KIGP01A13)</td>\n",
       "      <td>Other</td>\n",
       "      <td>692</td>\n",
       "      <td>547.0</td>\n",
       "      <td>496.0</td>\n",
       "      <td>709.0</td>\n",
       "      <td>35</td>\n",
       "      <td>1.77</td>\n",
       "      <td>NaN</td>\n",
       "      <td>800.0</td>\n",
       "      <td>11-2019</td>\n",
       "    </tr>\n",
       "    <tr>\n",
       "      <th>23</th>\n",
       "      <td>Nokia</td>\n",
       "      <td>106 New DS Grey (16NEBD01A02)</td>\n",
       "      <td>Other</td>\n",
       "      <td>838</td>\n",
       "      <td>596.0</td>\n",
       "      <td>544.0</td>\n",
       "      <td>699.0</td>\n",
       "      <td>35</td>\n",
       "      <td>1.80</td>\n",
       "      <td>NaN</td>\n",
       "      <td>800.0</td>\n",
       "      <td>1-2019</td>\n",
       "    </tr>\n",
       "    <tr>\n",
       "      <th>...</th>\n",
       "      <td>...</td>\n",
       "      <td>...</td>\n",
       "      <td>...</td>\n",
       "      <td>...</td>\n",
       "      <td>...</td>\n",
       "      <td>...</td>\n",
       "      <td>...</td>\n",
       "      <td>...</td>\n",
       "      <td>...</td>\n",
       "      <td>...</td>\n",
       "      <td>...</td>\n",
       "      <td>...</td>\n",
       "    </tr>\n",
       "    <tr>\n",
       "      <th>1116</th>\n",
       "      <td>Nomi</td>\n",
       "      <td>i284 Black</td>\n",
       "      <td>Other</td>\n",
       "      <td>702</td>\n",
       "      <td>584.0</td>\n",
       "      <td>504.0</td>\n",
       "      <td>763.0</td>\n",
       "      <td>35</td>\n",
       "      <td>2.80</td>\n",
       "      <td>NaN</td>\n",
       "      <td>1750.0</td>\n",
       "      <td>1-2020</td>\n",
       "    </tr>\n",
       "    <tr>\n",
       "      <th>1117</th>\n",
       "      <td>Nomi</td>\n",
       "      <td>i284 Red</td>\n",
       "      <td>Other</td>\n",
       "      <td>140</td>\n",
       "      <td>574.0</td>\n",
       "      <td>529.0</td>\n",
       "      <td>695.0</td>\n",
       "      <td>32</td>\n",
       "      <td>2.80</td>\n",
       "      <td>NaN</td>\n",
       "      <td>1750.0</td>\n",
       "      <td>1-2020</td>\n",
       "    </tr>\n",
       "    <tr>\n",
       "      <th>1118</th>\n",
       "      <td>Nomi</td>\n",
       "      <td>i284 Violet-blue</td>\n",
       "      <td>Other</td>\n",
       "      <td>613</td>\n",
       "      <td>580.0</td>\n",
       "      <td>528.0</td>\n",
       "      <td>709.0</td>\n",
       "      <td>34</td>\n",
       "      <td>2.80</td>\n",
       "      <td>NaN</td>\n",
       "      <td>1750.0</td>\n",
       "      <td>1-2020</td>\n",
       "    </tr>\n",
       "    <tr>\n",
       "      <th>1119</th>\n",
       "      <td>Nomi</td>\n",
       "      <td>i285 X-Treme Black-Yellow</td>\n",
       "      <td>Other</td>\n",
       "      <td>381</td>\n",
       "      <td>1071.0</td>\n",
       "      <td>999.0</td>\n",
       "      <td>1144.0</td>\n",
       "      <td>2</td>\n",
       "      <td>2.80</td>\n",
       "      <td>NaN</td>\n",
       "      <td>2500.0</td>\n",
       "      <td>8-2019</td>\n",
       "    </tr>\n",
       "    <tr>\n",
       "      <th>1224</th>\n",
       "      <td>Sigma mobile</td>\n",
       "      <td>x-style 35 Screen</td>\n",
       "      <td>Other</td>\n",
       "      <td>952</td>\n",
       "      <td>907.0</td>\n",
       "      <td>785.0</td>\n",
       "      <td>944.0</td>\n",
       "      <td>75</td>\n",
       "      <td>3.50</td>\n",
       "      <td>NaN</td>\n",
       "      <td>1750.0</td>\n",
       "      <td>1-2020</td>\n",
       "    </tr>\n",
       "  </tbody>\n",
       "</table>\n",
       "<p>112 rows × 12 columns</p>\n",
       "</div>"
      ],
      "text/plain": [
       "        brand_name                               model_name     os  \\\n",
       "14           Nokia    105 Dual Sim 2019 Black (16KIGB01A01)  Other   \n",
       "15           Nokia    105 Dual Sim 2019 Black (16KIGB01A01)  Other   \n",
       "17           Nokia  105 Single Sim 2019 Black (16KIGB01A13)  Other   \n",
       "18           Nokia   105 Single Sim 2019 Pink (16KIGP01A13)  Other   \n",
       "23           Nokia            106 New DS Grey (16NEBD01A02)  Other   \n",
       "...            ...                                      ...    ...   \n",
       "1116          Nomi                               i284 Black  Other   \n",
       "1117          Nomi                                 i284 Red  Other   \n",
       "1118          Nomi                         i284 Violet-blue  Other   \n",
       "1119          Nomi                i285 X-Treme Black-Yellow  Other   \n",
       "1224  Sigma mobile                        x-style 35 Screen  Other   \n",
       "\n",
       "      popularity  best_price  lowest_price  highest_price  sellers_amount  \\\n",
       "14           262       601.0         539.0          703.0              31   \n",
       "15           274       601.0         539.0          703.0              31   \n",
       "17           805       536.0         449.0          642.0              31   \n",
       "18           692       547.0         496.0          709.0              35   \n",
       "23           838       596.0         544.0          699.0              35   \n",
       "...          ...         ...           ...            ...             ...   \n",
       "1116         702       584.0         504.0          763.0              35   \n",
       "1117         140       574.0         529.0          695.0              32   \n",
       "1118         613       580.0         528.0          709.0              34   \n",
       "1119         381      1071.0         999.0         1144.0               2   \n",
       "1224         952       907.0         785.0          944.0              75   \n",
       "\n",
       "      screen_size  memory_size  battery_size release_date  \n",
       "14           1.77          NaN         800.0      11-2019  \n",
       "15           1.77          NaN         800.0      11-2019  \n",
       "17           1.77          NaN         800.0      11-2019  \n",
       "18           1.77          NaN         800.0      11-2019  \n",
       "23           1.80          NaN         800.0       1-2019  \n",
       "...           ...          ...           ...          ...  \n",
       "1116         2.80          NaN        1750.0       1-2020  \n",
       "1117         2.80          NaN        1750.0       1-2020  \n",
       "1118         2.80          NaN        1750.0       1-2020  \n",
       "1119         2.80          NaN        2500.0       8-2019  \n",
       "1224         3.50          NaN        1750.0       1-2020  \n",
       "\n",
       "[112 rows x 12 columns]"
      ]
     },
     "execution_count": 35,
     "metadata": {},
     "output_type": "execute_result"
    }
   ],
   "source": [
    "df[df.memory_size.isna()]"
   ]
  },
  {
   "cell_type": "code",
   "execution_count": 38,
   "id": "6231a658",
   "metadata": {},
   "outputs": [
    {
     "data": {
      "text/plain": [
       "Android         915\n",
       "Other           197\n",
       "iOS             103\n",
       "WindowsPhone      3\n",
       "OxygenOS          3\n",
       "EMUI              2\n",
       "KAIOS             1\n",
       "Name: os, dtype: int64"
      ]
     },
     "execution_count": 38,
     "metadata": {},
     "output_type": "execute_result"
    }
   ],
   "source": [
    "df.os.value_counts()"
   ]
  },
  {
   "cell_type": "code",
   "execution_count": 36,
   "id": "351d38f8",
   "metadata": {},
   "outputs": [
    {
     "data": {
      "text/plain": [
       "Other    112\n",
       "Name: os, dtype: int64"
      ]
     },
     "execution_count": 36,
     "metadata": {},
     "output_type": "execute_result"
    }
   ],
   "source": [
    "df[df.memory_size.isna()].os.value_counts()"
   ]
  },
  {
   "cell_type": "code",
   "execution_count": 37,
   "id": "7be8c67c",
   "metadata": {},
   "outputs": [
    {
     "data": {
      "text/plain": [
       "Sigma mobile    29\n",
       "Nomi            18\n",
       "Nokia           13\n",
       "Rezone           9\n",
       "Maxcom           9\n",
       "ALCATEL          6\n",
       "ERGO             6\n",
       "Tecno            4\n",
       "Philips          4\n",
       "Astro            4\n",
       "AGM              2\n",
       "S-TELL           2\n",
       "Fly              1\n",
       "CAT              1\n",
       "MAFAM            1\n",
       "Land             1\n",
       "Ulefone          1\n",
       "KENEKSI          1\n",
       "Name: brand_name, dtype: int64"
      ]
     },
     "execution_count": 37,
     "metadata": {},
     "output_type": "execute_result"
    }
   ],
   "source": [
    "df[df.memory_size.isna()].brand_name.value_counts()"
   ]
  },
  {
   "cell_type": "code",
   "execution_count": 39,
   "id": "05acc11d",
   "metadata": {},
   "outputs": [
    {
     "data": {
      "text/plain": [
       "1881.0"
      ]
     },
     "execution_count": 39,
     "metadata": {},
     "output_type": "execute_result"
    }
   ],
   "source": [
    "df[df.memory_size.isna()].highest_price.max()"
   ]
  },
  {
   "cell_type": "markdown",
   "id": "41cb5f0b",
   "metadata": {},
   "source": [
    "All 112 phones that are missing memory size use other OSes, and they are made by mostly companies that make non-smartphones. Also, the highest price of these phones is 1,881 hrivnyas, which is not that high compared to other smartphones. So we can more or less assume that these phones are non-smartphones and have small memory sizes. We'll fill in using the smallest memory size in the dataset."
   ]
  },
  {
   "cell_type": "code",
   "execution_count": 40,
   "id": "d47bc8d6",
   "metadata": {},
   "outputs": [
    {
     "name": "stdout",
     "output_type": "stream",
     "text": [
      "0.0032\n"
     ]
    }
   ],
   "source": [
    "smallest_memory = df['memory_size'].min()\n",
    "print(smallest_memory)"
   ]
  },
  {
   "cell_type": "code",
   "execution_count": 41,
   "id": "00688ebe",
   "metadata": {},
   "outputs": [
    {
     "data": {
      "text/plain": [
       "brand_name         0\n",
       "model_name         0\n",
       "os                 0\n",
       "popularity         0\n",
       "best_price         0\n",
       "lowest_price       0\n",
       "highest_price      0\n",
       "sellers_amount     0\n",
       "screen_size        2\n",
       "memory_size        0\n",
       "battery_size      10\n",
       "release_date       0\n",
       "dtype: int64"
      ]
     },
     "execution_count": 41,
     "metadata": {},
     "output_type": "execute_result"
    }
   ],
   "source": [
    "temp = df[df.memory_size.isna()]\n",
    "temp.memory_size = smallest_memory\n",
    "df[df.memory_size.isna()] = temp\n",
    "\n",
    "df.isna().sum()"
   ]
  },
  {
   "cell_type": "markdown",
   "id": "1257ba37",
   "metadata": {},
   "source": [
    "As the missing values of screen sizes and battery sizes do not account for a large number of records, we will just remove these records."
   ]
  },
  {
   "cell_type": "code",
   "execution_count": 43,
   "id": "cb4579d7",
   "metadata": {},
   "outputs": [
    {
     "data": {
      "text/plain": [
       "brand_name        0\n",
       "model_name        0\n",
       "os                0\n",
       "popularity        0\n",
       "best_price        0\n",
       "lowest_price      0\n",
       "highest_price     0\n",
       "sellers_amount    0\n",
       "screen_size       0\n",
       "memory_size       0\n",
       "battery_size      0\n",
       "release_date      0\n",
       "dtype: int64"
      ]
     },
     "execution_count": 43,
     "metadata": {},
     "output_type": "execute_result"
    }
   ],
   "source": [
    "df.dropna(inplace=True)\n",
    "\n",
    "df.isna().sum()"
   ]
  },
  {
   "cell_type": "code",
   "execution_count": 44,
   "id": "a653d57d",
   "metadata": {},
   "outputs": [
    {
     "data": {
      "text/plain": [
       "(1212, 12)"
      ]
     },
     "execution_count": 44,
     "metadata": {},
     "output_type": "execute_result"
    }
   ],
   "source": [
    "df.shape"
   ]
  },
  {
   "cell_type": "markdown",
   "id": "1030fbc2",
   "metadata": {},
   "source": [
    "Now our data is clean, we can start exploring the numbers. Let's look at the top 10 brand names of phone based on the number of models sold in Ukraine."
   ]
  },
  {
   "cell_type": "code",
   "execution_count": 53,
   "id": "cd26375c",
   "metadata": {},
   "outputs": [
    {
     "name": "stdout",
     "output_type": "stream",
     "text": [
      "Samsung         168\n",
      "Xiaomi          111\n",
      "Apple            96\n",
      "Motorola         62\n",
      "Sigma mobile     51\n",
      "HUAWEI           48\n",
      "Nokia            48\n",
      "DOOGEE           44\n",
      "Blackview        42\n",
      "Honor            33\n",
      "Name: brand_name, dtype: int64\n"
     ]
    }
   ],
   "source": [
    "top_10_brand_name = df['brand_name'].value_counts().head(10)\n",
    "\n",
    "print(top_10_brand_name)"
   ]
  },
  {
   "cell_type": "code",
   "execution_count": 56,
   "id": "6442200c",
   "metadata": {},
   "outputs": [
    {
     "data": {
      "text/plain": [
       "<AxesSubplot:xlabel='brand_name', ylabel='count'>"
      ]
     },
     "execution_count": 56,
     "metadata": {},
     "output_type": "execute_result"
    },
    {
     "data": {
      "image/png": "[encoded data removed]",
      "text/plain": [
       "<Figure size 432x288 with 1 Axes>"
      ]
     },
     "metadata": {
      "needs_background": "light"
     },
     "output_type": "display_data"
    }
   ],
   "source": [
    "plt.xticks(rotation=45)\n",
    "sns.countplot(data=df, x='brand_name',\n",
    "              order=df['brand_name'].value_counts().iloc[:10].index)"
   ]
  },
  {
   "cell_type": "markdown",
   "id": "0544c6bd",
   "metadata": {},
   "source": [
    "Are these brands really that popular among consumers and sellers? We'll take a look at the top 10 in average popularity rank and the average number of sellers on the market. The greater the rank is, the more popular the brand is."
   ]
  },
  {
   "cell_type": "code",
   "execution_count": 72,
   "id": "215d2233",
   "metadata": {},
   "outputs": [
    {
     "name": "stdout",
     "output_type": "stream",
     "text": [
      "brand_name\n",
      "BlackBerry    916.000000\n",
      "OnePlus       871.888889\n",
      "Apple         865.791667\n",
      "Google        852.333333\n",
      "OPPO          829.809524\n",
      "CAT           818.142857\n",
      "Xiaomi        805.918919\n",
      "vivo          743.529412\n",
      "ASUS          705.818182\n",
      "ZTE           699.708333\n",
      "Name: popularity, dtype: float64\n"
     ]
    },
    {
     "data": {
      "text/plain": [
       "<AxesSubplot:ylabel='brand_name'>"
      ]
     },
     "execution_count": 72,
     "metadata": {},
     "output_type": "execute_result"
    },
    {
     "data": {
      "image/png": "[encoded data removed]",
      "text/plain": [
       "<Figure size 432x288 with 1 Axes>"
      ]
     },
     "metadata": {
      "needs_background": "light"
     },
     "output_type": "display_data"
    }
   ],
   "source": [
    "top_10_popular_brand = df.groupby(by=['brand_name']).mean().sort_values('popularity', ascending=False)['popularity'].head(10)\n",
    "\n",
    "print(top_10_popular_brand)\n",
    "\n",
    "sns.barplot(top_10_popular_brand.values, top_10_popular_brand.index)"
   ]
  },
  {
   "cell_type": "markdown",
   "id": "129be86e",
   "metadata": {},
   "source": [
    "We can see that Samsung, which has the greatest number of phone models sold, is not even in the top 10 when it comes to popularity. At the same time, Blackberry and OnePlus are the most popular brands even if there aren't a variety of phone models available (neither of them are in the top 10 for the number of models)."
   ]
  },
  {
   "cell_type": "code",
   "execution_count": 73,
   "id": "1c5e5d50",
   "metadata": {},
   "outputs": [
    {
     "name": "stdout",
     "output_type": "stream",
     "text": [
      "brand_name\n",
      "Apple           42.666667\n",
      "Fly             31.800000\n",
      "CAT             31.428571\n",
      "ZTE             30.750000\n",
      "Sigma mobile    29.294118\n",
      "ALCATEL         28.000000\n",
      "Tecno           22.909091\n",
      "OPPO            21.857143\n",
      "Ulefone         20.800000\n",
      "Nokia           20.208333\n",
      "Name: sellers_amount, dtype: float64\n"
     ]
    },
    {
     "data": {
      "text/plain": [
       "<AxesSubplot:ylabel='brand_name'>"
      ]
     },
     "execution_count": 73,
     "metadata": {},
     "output_type": "execute_result"
    },
    {
     "data": {
      "image/png": "[encoded data removed]",
      "text/plain": [
       "<Figure size 432x288 with 1 Axes>"
      ]
     },
     "metadata": {
      "needs_background": "light"
     },
     "output_type": "display_data"
    }
   ],
   "source": [
    "# which brand are sold by the most sellers\n",
    "top_10_seller = df.groupby(by=['brand_name']).mean().sort_values('sellers_amount', ascending=False)['sellers_amount'].head(10)\n",
    "\n",
    "print(top_10_seller)\n",
    "\n",
    "sns.barplot(top_10_seller.values, top_10_seller.index)"
   ]
  },
  {
   "cell_type": "markdown",
   "id": "1cb29dfc",
   "metadata": {},
   "source": [
    "Apple seems like a dominant player in Ukraine as it is in the top 3 of all 3 rankings."
   ]
  },
  {
   "cell_type": "markdown",
   "id": "7eba6eb7",
   "metadata": {},
   "source": [
    "Now we'll find out whether screen sizes make the phone more expensive by looking at the correlation between screen sizes and best prices."
   ]
  },
  {
   "cell_type": "code",
   "execution_count": 86,
   "id": "68c45561",
   "metadata": {
    "scrolled": false
   },
   "outputs": [
    {
     "data": {
      "text/plain": [
       "<AxesSubplot:xlabel='screen_size', ylabel='best_price'>"
      ]
     },
     "execution_count": 86,
     "metadata": {},
     "output_type": "execute_result"
    },
    {
     "data": {
      "image/png": "[encoded data removed]",
      "text/plain": [
       "<Figure size 1080x576 with 1 Axes>"
      ]
     },
     "metadata": {
      "needs_background": "light"
     },
     "output_type": "display_data"
    }
   ],
   "source": [
    "plt.figure(figsize=(15,8))\n",
    "sns.scatterplot(data=df, x='screen_size', y='best_price')"
   ]
  },
  {
   "cell_type": "markdown",
   "id": "230a1174",
   "metadata": {},
   "source": [
    "Seems like there are no strong correlations between screen size and price. Phones with screens smaller than 4 inches are indeed cheaper, but when it comes to larger screens, a lot of phones are still priced relatively low. A possible reason for this is that they might be older models, so we will add release year into the mix."
   ]
  },
  {
   "cell_type": "code",
   "execution_count": 82,
   "id": "fb1b82b2",
   "metadata": {},
   "outputs": [
    {
     "data": {
      "text/html": [
       "<div>\n",
       "<style scoped>\n",
       "    .dataframe tbody tr th:only-of-type {\n",
       "        vertical-align: middle;\n",
       "    }\n",
       "\n",
       "    .dataframe tbody tr th {\n",
       "        vertical-align: top;\n",
       "    }\n",
       "\n",
       "    .dataframe thead th {\n",
       "        text-align: right;\n",
       "    }\n",
       "</style>\n",
       "<table border=\"1\" class=\"dataframe\">\n",
       "  <thead>\n",
       "    <tr style=\"text-align: right;\">\n",
       "      <th></th>\n",
       "      <th>brand_name</th>\n",
       "      <th>model_name</th>\n",
       "      <th>os</th>\n",
       "      <th>popularity</th>\n",
       "      <th>best_price</th>\n",
       "      <th>lowest_price</th>\n",
       "      <th>highest_price</th>\n",
       "      <th>sellers_amount</th>\n",
       "      <th>screen_size</th>\n",
       "      <th>memory_size</th>\n",
       "      <th>battery_size</th>\n",
       "      <th>release_date</th>\n",
       "      <th>release_year</th>\n",
       "    </tr>\n",
       "  </thead>\n",
       "  <tbody>\n",
       "    <tr>\n",
       "      <th>1</th>\n",
       "      <td>ALCATEL</td>\n",
       "      <td>1 1/8GB Bluish Black (5033D-2JALUAA)</td>\n",
       "      <td>Android</td>\n",
       "      <td>422</td>\n",
       "      <td>1690.0</td>\n",
       "      <td>1529.0</td>\n",
       "      <td>1819.0</td>\n",
       "      <td>36</td>\n",
       "      <td>5.00</td>\n",
       "      <td>8.0</td>\n",
       "      <td>2000.0</td>\n",
       "      <td>10-2020</td>\n",
       "      <td>2020</td>\n",
       "    </tr>\n",
       "    <tr>\n",
       "      <th>2</th>\n",
       "      <td>ALCATEL</td>\n",
       "      <td>1 5033D 1/16GB Volcano Black (5033D-2LALUAF)</td>\n",
       "      <td>Android</td>\n",
       "      <td>323</td>\n",
       "      <td>1803.0</td>\n",
       "      <td>1659.0</td>\n",
       "      <td>2489.0</td>\n",
       "      <td>36</td>\n",
       "      <td>5.00</td>\n",
       "      <td>16.0</td>\n",
       "      <td>2000.0</td>\n",
       "      <td>9-2020</td>\n",
       "      <td>2020</td>\n",
       "    </tr>\n",
       "    <tr>\n",
       "      <th>3</th>\n",
       "      <td>ALCATEL</td>\n",
       "      <td>1 5033D 1/16GB Volcano Black (5033D-2LALUAF)</td>\n",
       "      <td>Android</td>\n",
       "      <td>299</td>\n",
       "      <td>1803.0</td>\n",
       "      <td>1659.0</td>\n",
       "      <td>2489.0</td>\n",
       "      <td>36</td>\n",
       "      <td>5.00</td>\n",
       "      <td>16.0</td>\n",
       "      <td>2000.0</td>\n",
       "      <td>9-2020</td>\n",
       "      <td>2020</td>\n",
       "    </tr>\n",
       "    <tr>\n",
       "      <th>4</th>\n",
       "      <td>ALCATEL</td>\n",
       "      <td>1 5033D 1/16GB Volcano Black (5033D-2LALUAF)</td>\n",
       "      <td>Android</td>\n",
       "      <td>287</td>\n",
       "      <td>1803.0</td>\n",
       "      <td>1659.0</td>\n",
       "      <td>2489.0</td>\n",
       "      <td>36</td>\n",
       "      <td>5.00</td>\n",
       "      <td>16.0</td>\n",
       "      <td>2000.0</td>\n",
       "      <td>9-2020</td>\n",
       "      <td>2020</td>\n",
       "    </tr>\n",
       "    <tr>\n",
       "      <th>5</th>\n",
       "      <td>Nokia</td>\n",
       "      <td>1.3 1/16GB Charcoal</td>\n",
       "      <td>Android</td>\n",
       "      <td>1047</td>\n",
       "      <td>1999.0</td>\n",
       "      <td>1999.0</td>\n",
       "      <td>1999.0</td>\n",
       "      <td>10</td>\n",
       "      <td>5.71</td>\n",
       "      <td>16.0</td>\n",
       "      <td>3000.0</td>\n",
       "      <td>4-2020</td>\n",
       "      <td>2020</td>\n",
       "    </tr>\n",
       "  </tbody>\n",
       "</table>\n",
       "</div>"
      ],
      "text/plain": [
       "  brand_name                                    model_name       os  \\\n",
       "1    ALCATEL          1 1/8GB Bluish Black (5033D-2JALUAA)  Android   \n",
       "2    ALCATEL  1 5033D 1/16GB Volcano Black (5033D-2LALUAF)  Android   \n",
       "3    ALCATEL  1 5033D 1/16GB Volcano Black (5033D-2LALUAF)  Android   \n",
       "4    ALCATEL  1 5033D 1/16GB Volcano Black (5033D-2LALUAF)  Android   \n",
       "5      Nokia                           1.3 1/16GB Charcoal  Android   \n",
       "\n",
       "   popularity  best_price  lowest_price  highest_price  sellers_amount  \\\n",
       "1         422      1690.0        1529.0         1819.0              36   \n",
       "2         323      1803.0        1659.0         2489.0              36   \n",
       "3         299      1803.0        1659.0         2489.0              36   \n",
       "4         287      1803.0        1659.0         2489.0              36   \n",
       "5        1047      1999.0        1999.0         1999.0              10   \n",
       "\n",
       "   screen_size  memory_size  battery_size release_date  release_year  \n",
       "1         5.00          8.0        2000.0      10-2020          2020  \n",
       "2         5.00         16.0        2000.0       9-2020          2020  \n",
       "3         5.00         16.0        2000.0       9-2020          2020  \n",
       "4         5.00         16.0        2000.0       9-2020          2020  \n",
       "5         5.71         16.0        3000.0       4-2020          2020  "
      ]
     },
     "execution_count": 82,
     "metadata": {},
     "output_type": "execute_result"
    }
   ],
   "source": [
    "df['release_year'] = pd. DatetimeIndex(pd.to_datetime(df['release_date'], format='%m-%Y')).year\n",
    "\n",
    "df.head()"
   ]
  },
  {
   "cell_type": "code",
   "execution_count": 85,
   "id": "c7a4e511",
   "metadata": {},
   "outputs": [
    {
     "data": {
      "text/plain": [
       "<AxesSubplot:xlabel='screen_size', ylabel='best_price'>"
      ]
     },
     "execution_count": 85,
     "metadata": {},
     "output_type": "execute_result"
    },
    {
     "data": {
      "image/png": "[encoded data removed]",
      "text/plain": [
       "<Figure size 1080x576 with 1 Axes>"
      ]
     },
     "metadata": {
      "needs_background": "light"
     },
     "output_type": "display_data"
    }
   ],
   "source": [
    "plt.figure(figsize=(15,8))\n",
    "sns.scatterplot(data=df, x='screen_size', y='best_price', hue='release_year',  palette=\"deep\")"
   ]
  },
  {
   "cell_type": "markdown",
   "id": "1f27d08c",
   "metadata": {},
   "source": [
    "Still we cannot see any clear distinction between the price of newer and older phones with larger screens. We may only conclude that phones manufactured in 2017 or before will most likely cost less than 20,000 hrivnyas.\n",
    "\n",
    "We now look at other possible correlations between the features of each the phone models."
   ]
  },
  {
   "cell_type": "code",
   "execution_count": 92,
   "id": "a97f9f54",
   "metadata": {},
   "outputs": [
    {
     "data": {
      "text/html": [
       "<div>\n",
       "<style scoped>\n",
       "    .dataframe tbody tr th:only-of-type {\n",
       "        vertical-align: middle;\n",
       "    }\n",
       "\n",
       "    .dataframe tbody tr th {\n",
       "        vertical-align: top;\n",
       "    }\n",
       "\n",
       "    .dataframe thead th {\n",
       "        text-align: right;\n",
       "    }\n",
       "</style>\n",
       "<table border=\"1\" class=\"dataframe\">\n",
       "  <thead>\n",
       "    <tr style=\"text-align: right;\">\n",
       "      <th></th>\n",
       "      <th>popularity</th>\n",
       "      <th>best_price</th>\n",
       "      <th>sellers_amount</th>\n",
       "      <th>screen_size</th>\n",
       "      <th>memory_size</th>\n",
       "      <th>battery_size</th>\n",
       "      <th>release_year</th>\n",
       "    </tr>\n",
       "  </thead>\n",
       "  <tbody>\n",
       "    <tr>\n",
       "      <th>popularity</th>\n",
       "      <td>1.000000</td>\n",
       "      <td>0.345958</td>\n",
       "      <td>0.492303</td>\n",
       "      <td>0.331287</td>\n",
       "      <td>0.224087</td>\n",
       "      <td>0.217726</td>\n",
       "      <td>0.297478</td>\n",
       "    </tr>\n",
       "    <tr>\n",
       "      <th>best_price</th>\n",
       "      <td>0.345958</td>\n",
       "      <td>1.000000</td>\n",
       "      <td>0.302721</td>\n",
       "      <td>0.460602</td>\n",
       "      <td>0.725014</td>\n",
       "      <td>0.175830</td>\n",
       "      <td>0.206046</td>\n",
       "    </tr>\n",
       "    <tr>\n",
       "      <th>sellers_amount</th>\n",
       "      <td>0.492303</td>\n",
       "      <td>0.302721</td>\n",
       "      <td>1.000000</td>\n",
       "      <td>-0.024764</td>\n",
       "      <td>0.115458</td>\n",
       "      <td>-0.031637</td>\n",
       "      <td>0.273639</td>\n",
       "    </tr>\n",
       "    <tr>\n",
       "      <th>screen_size</th>\n",
       "      <td>0.331287</td>\n",
       "      <td>0.460602</td>\n",
       "      <td>-0.024764</td>\n",
       "      <td>1.000000</td>\n",
       "      <td>0.450315</td>\n",
       "      <td>0.615753</td>\n",
       "      <td>0.228574</td>\n",
       "    </tr>\n",
       "    <tr>\n",
       "      <th>memory_size</th>\n",
       "      <td>0.224087</td>\n",
       "      <td>0.725014</td>\n",
       "      <td>0.115458</td>\n",
       "      <td>0.450315</td>\n",
       "      <td>1.000000</td>\n",
       "      <td>0.225315</td>\n",
       "      <td>0.182391</td>\n",
       "    </tr>\n",
       "    <tr>\n",
       "      <th>battery_size</th>\n",
       "      <td>0.217726</td>\n",
       "      <td>0.175830</td>\n",
       "      <td>-0.031637</td>\n",
       "      <td>0.615753</td>\n",
       "      <td>0.225315</td>\n",
       "      <td>1.000000</td>\n",
       "      <td>0.290730</td>\n",
       "    </tr>\n",
       "    <tr>\n",
       "      <th>release_year</th>\n",
       "      <td>0.297478</td>\n",
       "      <td>0.206046</td>\n",
       "      <td>0.273639</td>\n",
       "      <td>0.228574</td>\n",
       "      <td>0.182391</td>\n",
       "      <td>0.290730</td>\n",
       "      <td>1.000000</td>\n",
       "    </tr>\n",
       "  </tbody>\n",
       "</table>\n",
       "</div>"
      ],
      "text/plain": [
       "                popularity  best_price  sellers_amount  screen_size  \\\n",
       "popularity        1.000000    0.345958        0.492303     0.331287   \n",
       "best_price        0.345958    1.000000        0.302721     0.460602   \n",
       "sellers_amount    0.492303    0.302721        1.000000    -0.024764   \n",
       "screen_size       0.331287    0.460602       -0.024764     1.000000   \n",
       "memory_size       0.224087    0.725014        0.115458     0.450315   \n",
       "battery_size      0.217726    0.175830       -0.031637     0.615753   \n",
       "release_year      0.297478    0.206046        0.273639     0.228574   \n",
       "\n",
       "                memory_size  battery_size  release_year  \n",
       "popularity         0.224087      0.217726      0.297478  \n",
       "best_price         0.725014      0.175830      0.206046  \n",
       "sellers_amount     0.115458     -0.031637      0.273639  \n",
       "screen_size        0.450315      0.615753      0.228574  \n",
       "memory_size        1.000000      0.225315      0.182391  \n",
       "battery_size       0.225315      1.000000      0.290730  \n",
       "release_year       0.182391      0.290730      1.000000  "
      ]
     },
     "execution_count": 92,
     "metadata": {},
     "output_type": "execute_result"
    },
    {
     "data": {
      "image/png": "[encoded data removed]",
      "text/plain": [
       "<Figure size 1440x720 with 2 Axes>"
      ]
     },
     "metadata": {
      "needs_background": "light"
     },
     "output_type": "display_data"
    }
   ],
   "source": [
    "plt.figure(figsize=(20,10))\n",
    "c= df.drop(columns=['lowest_price', 'highest_price']).corr()\n",
    "sns.heatmap(c, annot=True)\n",
    "c"
   ]
  },
  {
   "cell_type": "markdown",
   "id": "5ccb6cc3",
   "metadata": {},
   "source": [
    "- We can see a fairly high correlation between the price and the memory size of the phone.\n",
    "- Screen size and price also scores higher in correlations when compared to other features.\n",
    "- The number of sellers and popularity of the phone are somewhat correlated though it's not a strong correlation.\n",
    "\n",
    "Now we analyze the price and features of the top 100 most popular phone models."
   ]
  },
  {
   "cell_type": "code",
   "execution_count": 101,
   "id": "281110c2",
   "metadata": {},
   "outputs": [
    {
     "data": {
      "text/html": [
       "<div>\n",
       "<style scoped>\n",
       "    .dataframe tbody tr th:only-of-type {\n",
       "        vertical-align: middle;\n",
       "    }\n",
       "\n",
       "    .dataframe tbody tr th {\n",
       "        vertical-align: top;\n",
       "    }\n",
       "\n",
       "    .dataframe thead th {\n",
       "        text-align: right;\n",
       "    }\n",
       "</style>\n",
       "<table border=\"1\" class=\"dataframe\">\n",
       "  <thead>\n",
       "    <tr style=\"text-align: right;\">\n",
       "      <th></th>\n",
       "      <th>brand_name</th>\n",
       "      <th>model_name</th>\n",
       "      <th>os</th>\n",
       "      <th>popularity</th>\n",
       "      <th>best_price</th>\n",
       "      <th>lowest_price</th>\n",
       "      <th>highest_price</th>\n",
       "      <th>sellers_amount</th>\n",
       "      <th>screen_size</th>\n",
       "      <th>memory_size</th>\n",
       "      <th>battery_size</th>\n",
       "      <th>release_date</th>\n",
       "      <th>release_year</th>\n",
       "    </tr>\n",
       "  </thead>\n",
       "  <tbody>\n",
       "    <tr>\n",
       "      <th>1148</th>\n",
       "      <td>Apple</td>\n",
       "      <td>iPhone 12 Pro 128GB Pacific Blue (MGMN3/MGLR3)</td>\n",
       "      <td>iOS</td>\n",
       "      <td>1224</td>\n",
       "      <td>33992.0</td>\n",
       "      <td>31849.0</td>\n",
       "      <td>42999.0</td>\n",
       "      <td>101</td>\n",
       "      <td>6.10</td>\n",
       "      <td>128.0</td>\n",
       "      <td>2815.0</td>\n",
       "      <td>10-2020</td>\n",
       "      <td>2020</td>\n",
       "    </tr>\n",
       "    <tr>\n",
       "      <th>735</th>\n",
       "      <td>Google</td>\n",
       "      <td>Pixel 4a 6/128GB Just Black</td>\n",
       "      <td>Android</td>\n",
       "      <td>1223</td>\n",
       "      <td>12106.0</td>\n",
       "      <td>11740.0</td>\n",
       "      <td>12999.0</td>\n",
       "      <td>37</td>\n",
       "      <td>5.81</td>\n",
       "      <td>128.0</td>\n",
       "      <td>3140.0</td>\n",
       "      <td>8-2020</td>\n",
       "      <td>2020</td>\n",
       "    </tr>\n",
       "    <tr>\n",
       "      <th>742</th>\n",
       "      <td>Xiaomi</td>\n",
       "      <td>Poco X3 NFC 6/128GB Cobalt Blue</td>\n",
       "      <td>Android</td>\n",
       "      <td>1222</td>\n",
       "      <td>7152.0</td>\n",
       "      <td>6836.0</td>\n",
       "      <td>7999.0</td>\n",
       "      <td>59</td>\n",
       "      <td>6.67</td>\n",
       "      <td>128.0</td>\n",
       "      <td>5160.0</td>\n",
       "      <td>9-2020</td>\n",
       "      <td>2020</td>\n",
       "    </tr>\n",
       "    <tr>\n",
       "      <th>1125</th>\n",
       "      <td>Apple</td>\n",
       "      <td>iPhone 11 64GB Black (MWLT2)</td>\n",
       "      <td>iOS</td>\n",
       "      <td>1221</td>\n",
       "      <td>20889.0</td>\n",
       "      <td>18200.0</td>\n",
       "      <td>26499.0</td>\n",
       "      <td>93</td>\n",
       "      <td>6.10</td>\n",
       "      <td>64.0</td>\n",
       "      <td>3110.0</td>\n",
       "      <td>9-2019</td>\n",
       "      <td>2019</td>\n",
       "    </tr>\n",
       "    <tr>\n",
       "      <th>450</th>\n",
       "      <td>Samsung</td>\n",
       "      <td>Galaxy M51 6/128GB Black (SM-M515FZKD)</td>\n",
       "      <td>Android</td>\n",
       "      <td>1220</td>\n",
       "      <td>9620.0</td>\n",
       "      <td>8555.0</td>\n",
       "      <td>10394.0</td>\n",
       "      <td>55</td>\n",
       "      <td>6.70</td>\n",
       "      <td>128.0</td>\n",
       "      <td>7000.0</td>\n",
       "      <td>9-2020</td>\n",
       "      <td>2020</td>\n",
       "    </tr>\n",
       "    <tr>\n",
       "      <th>...</th>\n",
       "      <td>...</td>\n",
       "      <td>...</td>\n",
       "      <td>...</td>\n",
       "      <td>...</td>\n",
       "      <td>...</td>\n",
       "      <td>...</td>\n",
       "      <td>...</td>\n",
       "      <td>...</td>\n",
       "      <td>...</td>\n",
       "      <td>...</td>\n",
       "      <td>...</td>\n",
       "      <td>...</td>\n",
       "      <td>...</td>\n",
       "    </tr>\n",
       "    <tr>\n",
       "      <th>1218</th>\n",
       "      <td>Apple</td>\n",
       "      <td>iPhone XS Max 256GB Gold (MT552)</td>\n",
       "      <td>iOS</td>\n",
       "      <td>1128</td>\n",
       "      <td>24184.0</td>\n",
       "      <td>18399.0</td>\n",
       "      <td>30600.0</td>\n",
       "      <td>37</td>\n",
       "      <td>6.50</td>\n",
       "      <td>256.0</td>\n",
       "      <td>3174.0</td>\n",
       "      <td>9-2018</td>\n",
       "      <td>2018</td>\n",
       "    </tr>\n",
       "    <tr>\n",
       "      <th>818</th>\n",
       "      <td>Xiaomi</td>\n",
       "      <td>Redmi Note 4x 4/64GB Black</td>\n",
       "      <td>Android</td>\n",
       "      <td>1127</td>\n",
       "      <td>2809.0</td>\n",
       "      <td>2730.0</td>\n",
       "      <td>2889.0</td>\n",
       "      <td>2</td>\n",
       "      <td>5.50</td>\n",
       "      <td>64.0</td>\n",
       "      <td>4100.0</td>\n",
       "      <td>5-2017</td>\n",
       "      <td>2017</td>\n",
       "    </tr>\n",
       "    <tr>\n",
       "      <th>1215</th>\n",
       "      <td>Apple</td>\n",
       "      <td>iPhone XS 256GB Gold (MT9K2)</td>\n",
       "      <td>iOS</td>\n",
       "      <td>1126</td>\n",
       "      <td>21463.0</td>\n",
       "      <td>15281.0</td>\n",
       "      <td>25617.0</td>\n",
       "      <td>68</td>\n",
       "      <td>5.80</td>\n",
       "      <td>256.0</td>\n",
       "      <td>2568.0</td>\n",
       "      <td>9-2018</td>\n",
       "      <td>2018</td>\n",
       "    </tr>\n",
       "    <tr>\n",
       "      <th>833</th>\n",
       "      <td>Xiaomi</td>\n",
       "      <td>Redmi Note 8 Pro 6/128GB Green</td>\n",
       "      <td>Android</td>\n",
       "      <td>1125</td>\n",
       "      <td>6811.0</td>\n",
       "      <td>6435.0</td>\n",
       "      <td>7264.0</td>\n",
       "      <td>31</td>\n",
       "      <td>6.53</td>\n",
       "      <td>128.0</td>\n",
       "      <td>4500.0</td>\n",
       "      <td>9-2019</td>\n",
       "      <td>2019</td>\n",
       "    </tr>\n",
       "    <tr>\n",
       "      <th>185</th>\n",
       "      <td>OPPO</td>\n",
       "      <td>A91 8/128GB Black</td>\n",
       "      <td>Android</td>\n",
       "      <td>1124</td>\n",
       "      <td>8141.0</td>\n",
       "      <td>7298.0</td>\n",
       "      <td>8499.0</td>\n",
       "      <td>21</td>\n",
       "      <td>6.40</td>\n",
       "      <td>128.0</td>\n",
       "      <td>4025.0</td>\n",
       "      <td>4-2020</td>\n",
       "      <td>2020</td>\n",
       "    </tr>\n",
       "  </tbody>\n",
       "</table>\n",
       "<p>100 rows × 13 columns</p>\n",
       "</div>"
      ],
      "text/plain": [
       "     brand_name                                      model_name       os  \\\n",
       "1148      Apple  iPhone 12 Pro 128GB Pacific Blue (MGMN3/MGLR3)      iOS   \n",
       "735      Google                     Pixel 4a 6/128GB Just Black  Android   \n",
       "742      Xiaomi                 Poco X3 NFC 6/128GB Cobalt Blue  Android   \n",
       "1125      Apple                    iPhone 11 64GB Black (MWLT2)      iOS   \n",
       "450     Samsung          Galaxy M51 6/128GB Black (SM-M515FZKD)  Android   \n",
       "...         ...                                             ...      ...   \n",
       "1218      Apple                iPhone XS Max 256GB Gold (MT552)      iOS   \n",
       "818      Xiaomi                      Redmi Note 4x 4/64GB Black  Android   \n",
       "1215      Apple                    iPhone XS 256GB Gold (MT9K2)      iOS   \n",
       "833      Xiaomi                  Redmi Note 8 Pro 6/128GB Green  Android   \n",
       "185        OPPO                               A91 8/128GB Black  Android   \n",
       "\n",
       "      popularity  best_price  lowest_price  highest_price  sellers_amount  \\\n",
       "1148        1224     33992.0       31849.0        42999.0             101   \n",
       "735         1223     12106.0       11740.0        12999.0              37   \n",
       "742         1222      7152.0        6836.0         7999.0              59   \n",
       "1125        1221     20889.0       18200.0        26499.0              93   \n",
       "450         1220      9620.0        8555.0        10394.0              55   \n",
       "...          ...         ...           ...            ...             ...   \n",
       "1218        1128     24184.0       18399.0        30600.0              37   \n",
       "818         1127      2809.0        2730.0         2889.0               2   \n",
       "1215        1126     21463.0       15281.0        25617.0              68   \n",
       "833         1125      6811.0        6435.0         7264.0              31   \n",
       "185         1124      8141.0        7298.0         8499.0              21   \n",
       "\n",
       "      screen_size  memory_size  battery_size release_date  release_year  \n",
       "1148         6.10        128.0        2815.0      10-2020          2020  \n",
       "735          5.81        128.0        3140.0       8-2020          2020  \n",
       "742          6.67        128.0        5160.0       9-2020          2020  \n",
       "1125         6.10         64.0        3110.0       9-2019          2019  \n",
       "450          6.70        128.0        7000.0       9-2020          2020  \n",
       "...           ...          ...           ...          ...           ...  \n",
       "1218         6.50        256.0        3174.0       9-2018          2018  \n",
       "818          5.50         64.0        4100.0       5-2017          2017  \n",
       "1215         5.80        256.0        2568.0       9-2018          2018  \n",
       "833          6.53        128.0        4500.0       9-2019          2019  \n",
       "185          6.40        128.0        4025.0       4-2020          2020  \n",
       "\n",
       "[100 rows x 13 columns]"
      ]
     },
     "execution_count": 101,
     "metadata": {},
     "output_type": "execute_result"
    }
   ],
   "source": [
    "df_top_100_most_popular = df.sort_values(by='popularity', ascending=False).head(100)\n",
    "\n",
    "df_top_100_most_popular"
   ]
  },
  {
   "cell_type": "code",
   "execution_count": 102,
   "id": "dbd1f293",
   "metadata": {},
   "outputs": [
    {
     "data": {
      "text/plain": [
       "array([[<AxesSubplot:title={'center':'best_price'}>,\n",
       "        <AxesSubplot:title={'center':'sellers_amount'}>],\n",
       "       [<AxesSubplot:title={'center':'screen_size'}>,\n",
       "        <AxesSubplot:title={'center':'memory_size'}>],\n",
       "       [<AxesSubplot:title={'center':'battery_size'}>,\n",
       "        <AxesSubplot:title={'center':'release_year'}>]], dtype=object)"
      ]
     },
     "execution_count": 102,
     "metadata": {},
     "output_type": "execute_result"
    },
    {
     "data": {
      "image/png": "[encoded data removed]",
      "text/plain": [
       "<Figure size 1008x1008 with 6 Axes>"
      ]
     },
     "metadata": {
      "needs_background": "light"
     },
     "output_type": "display_data"
    }
   ],
   "source": [
    "df_top_100_most_popular.drop(columns=['popularity', 'lowest_price', 'highest_price']).hist(bins=20,figsize =(14,14))"
   ]
  },
  {
   "cell_type": "markdown",
   "id": "a0877ac9",
   "metadata": {},
   "source": [
    "The majority of most popular phones cost 20,000 hrivnyas (~750 USD) or less, and unsurprisingly, consumers seems to prefer larger screen sizes, with the most popular size being 6.5 inches.\n",
    "\n",
    "128 GB seems to be the optimal memory size, followed by 64 GB and 256 GB. \n",
    "\n",
    "The phone battery capacity is usually capped at 5000 mAh or less, with a few exceptions (less than 10% of top 100 phones) having 6000 or 7000 mAh battery.\n",
    "\n",
    "People also favor newer phone models, with almost 90% of these most popular models being manufactured in 2019 or later. As the data was released in February 2021, not a lot of 2021 models had been released."
   ]
  }
 ],
 "metadata": {
  "kernelspec": {
   "display_name": "Python 3",
   "language": "python",
   "name": "python3"
  },
  "language_info": {
   "codemirror_mode": {
    "name": "ipython",
    "version": 3
   },
   "file_extension": ".py",
   "mimetype": "text/x-python",
   "name": "python",
   "nbconvert_exporter": "python",
   "pygments_lexer": "ipython3",
   "version": "3.8.8"
  }
 },
 "nbformat": 4,
 "nbformat_minor": 5
}
